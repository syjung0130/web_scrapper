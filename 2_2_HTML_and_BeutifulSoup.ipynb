{
 "cells": [
  {
   "cell_type": "markdown",
   "metadata": {},
   "source": [
    "## 2.2.2 기타 BeutifulSoup 객체\n",
    "\n",
    "- BeutifulSoup 객체\n",
    "이전 코드 예제에서 bsObj와 같은 형태로 사용함\n",
    "\n",
    "- Tag 객체\n",
    "리스트 호출 또는 BeautifulSoup 객체에 find와 findAll을 호출, 또는 직접 접근해서 사용함\n",
    "~~~python\n",
    "bsObj.div.h1\n",
    "~~~\n",
    "- NavigableString 객체\n",
    "태그 자체가 아닌 태그 안에 들어있는 텍스트를 나타냄. 일부 함수는 Navigable Strings를 반환함\n",
    "\n",
    "- Comment 객체\n",
    "주석 태그 안에 들어있는 아래와 같은 HTML 주석을 찾는데 사용함\n",
    "~~~HTML\n",
    "<!-- like this one -->\n",
    "~~~\n"
   ]
  },
  {
   "cell_type": "markdown",
   "metadata": {},
   "source": [
    "## 2.2.3 트리 이동\n",
    "\n",
    "findAll()함수는 이름과 속성에 따라 태그를 찾는다. 그런데 문서 안에서의 위치를 기준으로 태그를 찾고자할 경우가 있다.\n",
    "아래와 같은 페이지를 예로 확인해보자\n",
    "~~~\n",
    "html\n",
    "-- body\n",
    "  -- div.wrapper\n",
    "     -- h1\n",
    "     -- div.content\n",
    "     -- table#giftList\n",
    "        -- tr\n",
    "        -- th\n",
    "        -- th\n",
    "        -- th\n",
    "        -- th\n",
    "     -- tr.gift#gift1\n",
    "        -- td\n",
    "        -- td\n",
    "           -- span.excitingNote\n",
    "        -- td\n",
    "           -- img\n",
    "     -- ... 더 많은 테이블 행 ...\n",
    "  -- div.footer\n",
    "~~~"
   ]
  },
  {
   "cell_type": "markdown",
   "metadata": {},
   "source": [
    "## 자식과 자손\n",
    "BeutifulSoup라이브러리도 자식과 자손을 구별한다.\n",
    "자식은 항상 부모보다 한 태그 아래에 있고, 자손은 조상보다 몇 단계든 아래에 있을 수 있다.\n",
    "위의 예를 보면, tr태그는 table태그의 자식이며 tr과 th, td, img, span은 모두 table 태그의 자손이다.\n",
    "모든 자식은 자손이지만, 모든 자손이 자식은 아니다.\n",
    "예를 들어보면\n",
    " - bsObj.body.h1은 body의 자손인 첫번째 h1태그를 선택하고 body 바깥에 있는 태그에 대해서는 동작하지 않는다.\n",
    " - bsObj.div.findAll(\"img\")는 문서의 첫번째 div태그를 찾고, 그 div태그의 자손인 모든 img태그의 목록을 가져온다.\n",
    " - 자식만 찾을 때는 .children을 사용한다.\n"
   ]
  },
  {
   "cell_type": "code",
   "execution_count": null,
   "metadata": {},
   "outputs": [],
   "source": [
    "#이 코드는 giftList테이블에 들어있는 제품 행 목록을 출력한다.\n",
    "from urllib.request import urlopen\n",
    "from bs4 import BeautifulSoup\n",
    "\n",
    "html = urlopen(\"http://www.pythonscrapping.com/pages/page3.html\")\n",
    "bsObj = BeautifulSoup(html, \"html.parser\")\n",
    "\n",
    "for child in bsObj.find(\"table\", {\"id\":\"giftList\"}).children:\n",
    "    print(child)"
   ]
  },
  {
   "cell_type": "markdown",
   "metadata": {},
   "source": [
    "## 형제\n",
    "BeautifulSoup의 next_siblings()함수는 테이블에서 데이터를 쉽게 수집할 수 있고, 테이블에 타이틀 행이 있을 때 유용하다.\n",
    "코드를 예로 확인해보자\n",
    " - 이 코드에서 출력하는 내용은 첫번째 타이틀 행을 제외한 모든 제품의 행이다. 자기 자신을 제외한 형제 객체들을 가져온다.\n",
    " - 이 함수를 보완하는 previous_siblings함수도 있다. 이 함수를 사용하면 원하는 형제 태그 목록의 마지막에 있는 태그를 쉽게 선택할 수 있다.\n",
    " - previous_sibling, next_sibling함수도 있는데 이 함수들은 태그 하나만 반환한다."
   ]
  },
  {
   "cell_type": "code",
   "execution_count": null,
   "metadata": {},
   "outputs": [],
   "source": [
    "from urllib.request import urlopen\n",
    "from bs4 import BeautifulSoup\n",
    "\n",
    "html = urlopen(\"http://www.pythonscrapping.com/pages/page3.html\")\n",
    "bsObj = BeautifulSoup(html, \"html.parser\")\n",
    "\n",
    "for sibling in bsObj.find(\"table\",{\"id\":\"giftList\"}).tr.next_siblings:\n",
    "    print(sibling)"
   ]
  },
  {
   "cell_type": "markdown",
   "metadata": {},
   "source": [
    "## 부모 다루기\n",
    " - 웹 페이지를 스크랩하다보면 부모를 알아야 할 때가 있다.\n",
    " - 부모 검색 함수로 .parent , .parents 함수가 있다.\n",
    " - 이 코드는 img1.jpg가 나타내는 객체의 가격을 출력한다.\n",
    " ( img1.jpg에 해당하는 이미지를 선택 -> 부모 태그 선택(< td >태그) -> previous_sibling을 선택함 -> 태그에 들어있는 $15.00을 선택함)"
   ]
  },
  {
   "cell_type": "code",
   "execution_count": null,
   "metadata": {},
   "outputs": [],
   "source": [
    "from urllib.request import urlopen\n",
    "from bs4 import BeautifulSoup\n",
    "\n",
    "html = urlopen(\"http://www.pythonscrapping.com/pages/page3.html\")\n",
    "bsObj = BeautifulSoup(html, \"html.parser\")\n",
    "\n",
    "print(bsObj.find(\"img\", {\"src\":\"../img/gifts/img1.jpg\"}).parent.previous_sibling.get_text())"
   ]
  }
 ],
 "metadata": {
  "kernelspec": {
   "display_name": "Python 2",
   "language": "python",
   "name": "python2"
  },
  "language_info": {
   "codemirror_mode": {
    "name": "ipython",
    "version": 2
   },
   "file_extension": ".py",
   "mimetype": "text/x-python",
   "name": "python",
   "nbconvert_exporter": "python",
   "pygments_lexer": "ipython2",
   "version": "2.7.14"
  }
 },
 "nbformat": 4,
 "nbformat_minor": 2
}
